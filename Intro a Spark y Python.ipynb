{
 "cells": [
  {
   "cell_type": "code",
   "execution_count": 7,
   "id": "e078a7de",
   "metadata": {},
   "outputs": [],
   "source": [
    "from pyspark import SparkContext"
   ]
  },
  {
   "cell_type": "code",
   "execution_count": 9,
   "id": "dc170430",
   "metadata": {},
   "outputs": [
    {
     "name": "stdout",
     "output_type": "stream",
     "text": [
      "23/02/08 22:29:17 WARN Utils: Your hostname, ryzen resolves to a loopback address: 127.0.1.1; using 172.30.249.22 instead (on interface eth0)\n",
      "23/02/08 22:29:17 WARN Utils: Set SPARK_LOCAL_IP if you need to bind to another address\n"
     ]
    },
    {
     "name": "stderr",
     "output_type": "stream",
     "text": [
      "Setting default log level to \"WARN\".\n",
      "To adjust logging level use sc.setLogLevel(newLevel). For SparkR, use setLogLevel(newLevel).\n"
     ]
    },
    {
     "name": "stdout",
     "output_type": "stream",
     "text": [
      "23/02/08 22:29:19 WARN NativeCodeLoader: Unable to load native-hadoop library for your platform... using builtin-java classes where applicable\n"
     ]
    }
   ],
   "source": [
    "sc = SparkContext()"
   ]
  },
  {
   "cell_type": "code",
   "execution_count": 10,
   "id": "ed70366a",
   "metadata": {},
   "outputs": [
    {
     "name": "stdout",
     "output_type": "stream",
     "text": [
      "Writing ejemplo.txt\n"
     ]
    }
   ],
   "source": [
    "%%writefile ejemplo.txt\n",
    "primera linea\n",
    "segunda linea\n",
    "tercera linea\n",
    "cuarta linea"
   ]
  },
  {
   "cell_type": "code",
   "execution_count": 12,
   "id": "9a79e777",
   "metadata": {},
   "outputs": [],
   "source": [
    "textFile = sc.textFile('ejemplo.txt')"
   ]
  },
  {
   "cell_type": "code",
   "execution_count": 13,
   "id": "0469ba3b",
   "metadata": {},
   "outputs": [
    {
     "data": {
      "text/plain": [
       "ejemplo.txt MapPartitionsRDD[1] at textFile at NativeMethodAccessorImpl.java:0"
      ]
     },
     "execution_count": 13,
     "metadata": {},
     "output_type": "execute_result"
    }
   ],
   "source": [
    "textFile"
   ]
  },
  {
   "cell_type": "markdown",
   "id": "9fdcc1ba",
   "metadata": {},
   "source": [
    "# Acciones"
   ]
  },
  {
   "cell_type": "code",
   "execution_count": 14,
   "id": "347ee74d",
   "metadata": {},
   "outputs": [
    {
     "data": {
      "text/plain": [
       "['primera linea', 'segunda linea', 'tercera linea', 'cuarta linea']"
      ]
     },
     "execution_count": 14,
     "metadata": {},
     "output_type": "execute_result"
    }
   ],
   "source": [
    "textFile.collect()"
   ]
  },
  {
   "cell_type": "code",
   "execution_count": 15,
   "id": "ed535db1",
   "metadata": {},
   "outputs": [
    {
     "name": "stderr",
     "output_type": "stream",
     "text": [
      "                                                                                \r"
     ]
    },
    {
     "data": {
      "text/plain": [
       "4"
      ]
     },
     "execution_count": 15,
     "metadata": {},
     "output_type": "execute_result"
    }
   ],
   "source": [
    "textFile.count()"
   ]
  },
  {
   "cell_type": "code",
   "execution_count": 16,
   "id": "ce7dcc98",
   "metadata": {},
   "outputs": [
    {
     "data": {
      "text/plain": [
       "'primera linea'"
      ]
     },
     "execution_count": 16,
     "metadata": {},
     "output_type": "execute_result"
    }
   ],
   "source": [
    "textFile.first()"
   ]
  },
  {
   "cell_type": "markdown",
   "id": "067766fa",
   "metadata": {},
   "source": [
    "# Transformación"
   ]
  },
  {
   "cell_type": "code",
   "execution_count": 17,
   "id": "7c0c3e39",
   "metadata": {},
   "outputs": [],
   "source": [
    "segunda = textFile.filter(lambda linea: 'segunda' in linea)"
   ]
  },
  {
   "cell_type": "code",
   "execution_count": 21,
   "id": "8ac46f9f",
   "metadata": {},
   "outputs": [
    {
     "data": {
      "text/plain": [
       "PythonRDD[4] at RDD at PythonRDD.scala:53"
      ]
     },
     "execution_count": 21,
     "metadata": {},
     "output_type": "execute_result"
    }
   ],
   "source": [
    "segunda"
   ]
  },
  {
   "cell_type": "code",
   "execution_count": 22,
   "id": "425355a7",
   "metadata": {},
   "outputs": [
    {
     "data": {
      "text/plain": [
       "['segunda linea']"
      ]
     },
     "execution_count": 22,
     "metadata": {},
     "output_type": "execute_result"
    }
   ],
   "source": [
    "segunda.collect()"
   ]
  },
  {
   "cell_type": "code",
   "execution_count": null,
   "id": "3441855b",
   "metadata": {},
   "outputs": [],
   "source": []
  }
 ],
 "metadata": {
  "kernelspec": {
   "display_name": "Python 3 (ipykernel)",
   "language": "python",
   "name": "python3"
  },
  "language_info": {
   "codemirror_mode": {
    "name": "ipython",
    "version": 3
   },
   "file_extension": ".py",
   "mimetype": "text/x-python",
   "name": "python",
   "nbconvert_exporter": "python",
   "pygments_lexer": "ipython3",
   "version": "3.10.6"
  }
 },
 "nbformat": 4,
 "nbformat_minor": 5
}
